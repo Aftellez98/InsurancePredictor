{
 "cells": [
  {
   "cell_type": "markdown",
   "metadata": {},
   "source": [
    "# LASSO Model"
   ]
  },
  {
   "cell_type": "code",
   "execution_count": 18,
   "metadata": {},
   "outputs": [],
   "source": [
    "## -----------\n",
    "# READ DATA\n",
    "## -----------\n",
    "import pandas as pd\n",
    "insurance_df = pd.read_csv(\"insurance.csv\")"
   ]
  },
  {
   "cell_type": "code",
   "execution_count": 19,
   "metadata": {},
   "outputs": [],
   "source": [
    "## -----------\n",
    "# DATA TRANSFORMATION\n",
    "## -----------\n",
    "\n",
    "sex_function = lambda x: int(x != 'female')\n",
    "\n",
    "def sex_function(x):\n",
    "    return int(x != 'female')\n",
    "\n",
    "# Binary transformation\n",
    "insurance_df['sex'] = insurance_df['sex'].apply(sex_function)\n",
    "insurance_df['smoker'] = insurance_df['smoker'].apply(lambda x: int(x != 'no'))\n",
    "\n",
    "# Multiclass transformation\n",
    "region_dummies = pd.get_dummies(insurance_df['region'], drop_first = True)\n",
    "\n",
    "insurance_df=pd.concat([insurance_df, region_dummies], axis=1)\n",
    "insurance_df.drop([\"region\"], axis=1, inplace = True)"
   ]
  },
  {
   "cell_type": "code",
   "execution_count": 20,
   "metadata": {},
   "outputs": [],
   "source": [
    "## -----------\n",
    "# TRAIN AND TEST SPLIT\n",
    "## -----------\n",
    "\n",
    "from sklearn.model_selection import train_test_split\n",
    "y = insurance_df['charges']\n",
    "X = insurance_df.drop(columns = ['charges'])\n",
    "X_train, X_test, y_train, y_test = train_test_split(X, y, test_size = 0.2)\n",
    "\n",
    "y = insurance_df['charges']\n",
    "X = insurance_df.drop(columns = ['charges'])\n",
    "\n",
    "train = pd.concat([y_train,  X_train], axis=1)\n",
    "test = pd.concat([y_test, X_test], axis = 1)"
   ]
  },
  {
   "cell_type": "code",
   "execution_count": 44,
   "metadata": {},
   "outputs": [
    {
     "data": {
      "text/plain": [
       "Lasso(alpha=8)"
      ]
     },
     "execution_count": 44,
     "metadata": {},
     "output_type": "execute_result"
    }
   ],
   "source": [
    "## -----------\n",
    "# MODEL\n",
    "## -----------\n",
    "\n",
    "from sklearn import linear_model\n",
    "\n",
    "reg = linear_model.Lasso(alpha=8)\n",
    "reg.fit(X_train, y_train)"
   ]
  },
  {
   "cell_type": "code",
   "execution_count": 45,
   "metadata": {},
   "outputs": [
    {
     "data": {
      "text/plain": [
       "0.6723316141312212"
      ]
     },
     "execution_count": 45,
     "metadata": {},
     "output_type": "execute_result"
    }
   ],
   "source": [
    "## -----------\n",
    "# EVALUATION\n",
    "## -----------\n",
    "\n",
    "from sklearn.metrics import mean_squared_error, r2_score\n",
    "\n",
    "# Make a prediction\n",
    "yhat = reg.predict(X_test)\n",
    "\n",
    "# Evaluation\n",
    "r2 = r2_score(y_test, yhat)\n",
    "r2"
   ]
  },
  {
   "cell_type": "code",
   "execution_count": 46,
   "metadata": {},
   "outputs": [],
   "source": [
    "import pickle \n",
    "\n",
    "with open(\"lasso\", 'wb') as file:\n",
    "    pickle.dump(reg, file)"
   ]
  }
 ],
 "metadata": {
  "kernelspec": {
   "display_name": "base",
   "language": "python",
   "name": "python3"
  },
  "language_info": {
   "codemirror_mode": {
    "name": "ipython",
    "version": 3
   },
   "file_extension": ".py",
   "mimetype": "text/x-python",
   "name": "python",
   "nbconvert_exporter": "python",
   "pygments_lexer": "ipython3",
   "version": "3.9.13"
  }
 },
 "nbformat": 4,
 "nbformat_minor": 2
}
